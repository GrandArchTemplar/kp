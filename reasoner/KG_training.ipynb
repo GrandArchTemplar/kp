{
 "cells": [
  {
   "cell_type": "code",
   "execution_count": null,
   "metadata": {
    "id": "zezKyYZ9VLRT"
   },
   "outputs": [],
   "source": [
    "#!pip install torch==1.7.1+cu101 torchvision==0.8.2+cu101 torchaudio===0.7.2 -f https://download.pytorch.org/whl/torch_stable.html"
   ]
  },
  {
   "cell_type": "code",
   "execution_count": 1,
   "metadata": {
    "colab": {
     "base_uri": "https://localhost:8080/"
    },
    "id": "t12ibM7VVqul",
    "outputId": "efb0aecd-0d69-4a05-fe98-f5801c499e6d"
   },
   "outputs": [
    {
     "name": "stdout",
     "output_type": "stream",
     "text": [
      "cuda\n",
      "Tesla T4\n",
      "Drive already mounted at /content/drive/; to attempt to forcibly remount, call drive.mount(\"/content/drive/\", force_remount=True).\n"
     ]
    }
   ],
   "source": [
    "import torch\n",
    "import pandas as pd \n",
    "import numpy as np \n",
    "import collections\n",
    "import matplotlib.pyplot as plt\n",
    "import os \n",
    "import random as rnd\n",
    "from modules.KGCN import KGCN\n",
    "from modules.NeighborAggregator import NeighborAggregator\n",
    "from modules.LoadData import load_data\n",
    "\n",
    "torch.cuda.get_device_name(0)\n",
    "if torch.cuda.is_available():\n",
    "    device = torch.device(\"cuda\")\n",
    "  \n",
    "else:\n",
    "    device = torch.device(\"cpu\")\n",
    "print(device)\n",
    "print(torch.cuda.get_device_name(0))\n",
    "\n",
    "path = './'\n"
   ]
  },
  {
   "cell_type": "code",
   "execution_count": 27,
   "metadata": {
    "colab": {
     "base_uri": "https://localhost:8080/"
    },
    "id": "jxvUZ4-hWBmI",
    "outputId": "b67163c0-17c2-4ada-99f7-7dd9502d0acc"
   },
   "outputs": [
    {
     "name": "stdout",
     "output_type": "stream",
     "text": [
      "reading rating file ...\n",
      "splitting dataset ...\n",
      "reading KG file ...\n",
      "constructing knowledge graph ...\n",
      "constructing adjacency matrix ...\n",
      "data loaded.\n"
     ]
    }
   ],
   "source": [
    "# Обработаем данные для начала\n",
    "\n",
    "#Загружаем их\n",
    "n_user, n_item, n_entity, n_relation, train_data, eval_data, test_data, adj_entity, adj_relation,kg = load_data()\n",
    "\n",
    "# мы хотим только понравивишиеся фильмы искать, а не классифицировать на два класса, поэтому подготавливаем данные для тренировки \n",
    "len_of_train_data_ones=0\n",
    "for tri in train_data:\n",
    "    if tri[2]==1:\n",
    "        len_of_train_data_ones+=1\n",
    "train_data_ones=np.zeros((len_of_train_data_ones,3),dtype=int)\n",
    "k=0\n",
    "for j,tri in enumerate(train_data):\n",
    "    if tri[2]==1:\n",
    "        train_data_ones[k][0] = tri[0]\n",
    "        train_data_ones[k][1] = tri[1]\n",
    "        train_data_ones[k][2] = tri[2]\n",
    "        k+=1\n",
    "\n",
    "#формируем юзеров,которые нужны нам для нашей модификации - когда сравниваем нового юзера с \"базой юзеров\" \n",
    "train_data_to_compare = dict()\n",
    "for tri in train_data_ones:\n",
    "    if tri[0] not in train_data_to_compare:\n",
    "        train_data_to_compare[tri[0]] = []\n",
    "    train_data_to_compare[tri[0]].append(tri[1])\n",
    "\n",
    "#сохраним чтоб использовать их в файле Main.py\n",
    "np.save(path + 'train_data_to_compare.npy', train_data_to_compare)\n",
    "\n",
    "#Функция поиска максимально похожего юзера из \"базы\"+ если будет несколько, то выбираем рандомного\n",
    "def most_common_with(new_u): \n",
    "    list_of_all_users = []\n",
    "    for u in train_data_to_compare:\n",
    "        equlity = len((set(new_u) & set(train_data_to_compare[u])))\n",
    "        list_of_all_users.append(equlity)\n",
    "    return np.random.choice(np.argwhere(list_of_all_users == np.amax(list_of_all_users)).flatten(),1)\n"
   ]
  },
  {
   "cell_type": "code",
   "execution_count": 31,
   "metadata": {
    "colab": {
     "base_uri": "https://localhost:8080/",
     "height": 1000
    },
    "id": "s0oDbt-f8Ah0",
    "outputId": "d9f8624f-891e-4353-d016-7c872955dc26"
   },
   "outputs": [
    {
     "name": "stdout",
     "output_type": "stream",
     "text": [
      "Aggregator:  neighbor  trainig only on 1:  True\n",
      "Epoch: 0.0000, Loss: 1.4335, Training accuracy: 0.4923\n",
      "Epoch: 1.0000, Loss: 1.2220, Training accuracy: 0.5286\n",
      "Epoch: 2.0000, Loss: 1.0658, Training accuracy: 0.5627\n",
      "Epoch: 3.0000, Loss: 0.9555, Training accuracy: 0.5879\n",
      "Epoch: 4.0000, Loss: 0.8702, Training accuracy: 0.6112\n",
      "Epoch: 5.0000, Loss: 0.7909, Training accuracy: 0.6372\n",
      "Epoch: 6.0000, Loss: 0.7130, Training accuracy: 0.6710\n",
      "Epoch: 7.0000, Loss: 0.6414, Training accuracy: 0.7113\n",
      "Epoch: 8.0000, Loss: 0.5805, Training accuracy: 0.7487\n",
      "Epoch: 9.0000, Loss: 0.5296, Training accuracy: 0.7801\n",
      "Epoch: 10.0000, Loss: 0.4858, Training accuracy: 0.8069\n",
      "Epoch: 11.0000, Loss: 0.4450, Training accuracy: 0.8325\n",
      "Epoch: 12.0000, Loss: 0.4054, Training accuracy: 0.8561\n",
      "Epoch: 13.0000, Loss: 0.3669, Training accuracy: 0.8774\n",
      "Epoch: 14.0000, Loss: 0.3302, Training accuracy: 0.8965\n",
      "Epoch: 15.0000, Loss: 0.2960, Training accuracy: 0.9136\n",
      "Epoch: 16.0000, Loss: 0.2646, Training accuracy: 0.9295\n",
      "Epoch: 17.0000, Loss: 0.2362, Training accuracy: 0.9436\n",
      "Epoch: 18.0000, Loss: 0.2108, Training accuracy: 0.9544\n",
      "Epoch: 19.0000, Loss: 0.1884, Training accuracy: 0.9644\n",
      "Epoch: 20.0000, Loss: 0.1688, Training accuracy: 0.9723\n",
      "Epoch: 21.0000, Loss: 0.1518, Training accuracy: 0.9787\n",
      "Epoch: 22.0000, Loss: 0.1373, Training accuracy: 0.9838\n",
      "Epoch: 23.0000, Loss: 0.1249, Training accuracy: 0.9882\n",
      "Epoch: 24.0000, Loss: 0.1145, Training accuracy: 0.9913\n",
      "Epoch: 25.0000, Loss: 0.1058, Training accuracy: 0.9935\n",
      "Epoch: 26.0000, Loss: 0.0986, Training accuracy: 0.9957\n",
      "Epoch: 27.0000, Loss: 0.0927, Training accuracy: 0.9971\n",
      "Epoch: 28.0000, Loss: 0.0878, Training accuracy: 0.9979\n",
      "Epoch: 29.0000, Loss: 0.0838, Training accuracy: 0.9986\n"
     ]
    },
    {
     "data": {
      "image/png": "[encoded data removed]",
      "text/plain": [
       "<Figure size 432x288 with 1 Axes>"
      ]
     },
     "metadata": {
      "needs_background": "light",
      "tags": []
     },
     "output_type": "display_data"
    },
    {
     "data": {
      "image/png": "[encoded data removed]",
      "text/plain": [
       "<Figure size 432x288 with 1 Axes>"
      ]
     },
     "metadata": {
      "needs_background": "light",
      "tags": []
     },
     "output_type": "display_data"
    }
   ],
   "source": [
    "#тренировка для поиска наилучших настроек \n",
    "list_of_aggregators =['neighbor'] #добавляем сюда другие агреггаторы \n",
    "batch_size = 65536\n",
    "\n",
    "for agg in list_of_aggregators:\n",
    "    model=KGCN(n_user,n_entity, n_relation, adj_entity, adj_relation,batch_size,aggregator_class=agg)\n",
    "    model.to(device)\n",
    "    optimizer=torch.optim.Adam(model.parameters(), lr=0.02) \n",
    "\n",
    "    losses=[]\n",
    "    accs_f1_train =[]\n",
    "    print('Aggregator: ', agg, ' trainig only on 1: ', 'True')\n",
    "\n",
    "    np.random.shuffle(train_data_ones)\n",
    "    name_of_plot = agg + ' aggregator. Traning only on \"1\". '\n",
    "    for step in range(0,30):\n",
    "        model.train()\n",
    "        start = 0\n",
    "        total_loss=0\n",
    "        k = 0\n",
    "        total_f1 = 0\n",
    "        optimizer.zero_grad()\n",
    "        while start+batch_size<train_data_ones.shape[0]: \n",
    "            model.train()    \n",
    "            user_indices = train_data_ones[start:start+batch_size,0]\n",
    "            item_indices=train_data_ones[start:start+batch_size,1]\n",
    "            labels_indices=train_data_ones[start:start+batch_size,2]\n",
    "            out = model.forward(user_indices,item_indices,device)\n",
    "            loss2 = model.loss(out,labels_indices,device)\n",
    "            total_loss+=loss2\n",
    "            #точность:\n",
    "            f1 = model.train_acc(out)\n",
    "            total_f1 +=f1\n",
    "            start+=batch_size\n",
    "            k+=1\n",
    "        total_loss.backward()\n",
    "        optimizer.step()\n",
    "        losses.append(total_loss/k)\n",
    "        accs_f1_train.append(total_f1/k)\n",
    "        log = 'Epoch: {:.4f}, Loss: {:.4f}, Training accuracy: {:.4f}'\n",
    "        print(log.format(step, total_loss/k, total_f1/k)) \n",
    "    \n",
    "    plt.plot(losses)\n",
    "    plt.title(name_of_plot+' loss')\n",
    "    plt.xlabel('epoch')\n",
    "    plt.ylabel('loss')\n",
    "    plt.show()\n",
    "\n",
    "    plt.plot(accs_f1_train)\n",
    "    plt.title(name_of_plot+' training accuracy')\n",
    "    plt.xlabel('epoch')\n",
    "    plt.ylabel('training accuracy')\n",
    "    plt.show()\n"
   ]
  },
  {
   "cell_type": "code",
   "execution_count": 32,
   "metadata": {
    "id": "GtkJOKGx5nnj"
   },
   "outputs": [],
   "source": [
    "torch.save(model,path+'model.pt')"
   ]
  },
  {
   "cell_type": "code",
   "execution_count": 33,
   "metadata": {
    "colab": {
     "base_uri": "https://localhost:8080/"
    },
    "id": "DC0aeHy8ZkT1",
    "outputId": "f96d16e7-7069-478f-b0be-376cf04b7504"
   },
   "outputs": [
    {
     "name": "stdout",
     "output_type": "stream",
     "text": [
      "Auc:  0.5062945997835392 f1:  0.6556840729757247\n"
     ]
    }
   ],
   "source": [
    "#вариант когда для считаем f1,auc для юзеров из \"базы\"\n",
    "tmp = dict() #\n",
    "for tri in eval_data:\n",
    "    if tri[0] not in tmp:\n",
    "      tmp[tri[0]] = []\n",
    "    tmp[tri[0]].append([tri[1],tri[2]])\n",
    "\n",
    "model.eval()    \n",
    "user_indices = eval_data[:,0]\n",
    "item_indices=eval_data[:,1]\n",
    "labels_indices=eval_data[:,2]\n",
    "auc_all = 0 \n",
    "f1_all = 0\n",
    "k=0\n",
    "for g in tmp:\n",
    "    item_indices = []\n",
    "    labels_indices=[]\n",
    "    for x in tmp[g]:\n",
    "        item_indices.append(x[0])\n",
    "        labels_indices.append(x[1])\n",
    "    user_indices=[g]*len(labels_indices)\n",
    "    if not (labels_indices==[1]*len(labels_indices) or labels_indices==[0]*len(labels_indices) ): #f1 не считается когда только один класс представлен\n",
    "        out_val = model.inference(user_indices,item_indices,device)\n",
    "        auc , f1 = model.ctr(out_val,labels_indices)\n",
    "        auc_all+=auc\n",
    "        f1_all+=f1\n",
    "        k+=1\n",
    "print('Auc: ', auc_all/k,'f1: ', f1_all/k)"
   ]
  },
  {
   "cell_type": "code",
   "execution_count": 34,
   "metadata": {
    "id": "8KlUUF8doCrO"
   },
   "outputs": [],
   "source": [
    "#А теперь готовим данные, нужные только для расчета точности нашего модифицированного метода  AA\n",
    "eval_data_cool = list (map (lambda x: [x[0], x[1]], filter (lambda x: x[2] == 1, eval_data)))\n",
    "eval_data_super = pd.DataFrame(eval_data_cool, columns=[\"user_id\", \"film_id\"]).groupby(\"user_id\")[\"film_id\"].apply(list).to_dict()\n",
    "def for_each_dict(f,d):\n",
    "    for k, v in d.items():\n",
    "        f(v)\n",
    "def map_dict(f,d):\n",
    "    r = dict()\n",
    "    for k, v in d.items():\n",
    "        r[k] = f(v)\n",
    "    return r\n",
    "def split_list(list, k):\n",
    "    kek = int(len(list) * k + .5)\n",
    "    return (list[:kek], list[kek:])\n",
    "\n",
    "(for_each_dict(lambda x: rnd.shuffle(x),eval_data_super))\n",
    "eval_data_super_dict = map_dict(lambda x: split_list(x, 0.7),eval_data_super)\n",
    "eval_to_compare, eval_save = map_dict(lambda x: x[0], eval_data_super_dict), map_dict(lambda x: x[1], eval_data_super_dict)\n",
    "eval_to_find_acc= list(filter(lambda x: (x[2] == 0) or (not (x[1] in eval_to_compare[x[0]])), eval_data))\n",
    "for j,k in enumerate(eval_to_find_acc):\n",
    "    eval_to_find_acc[j]=eval_to_find_acc[j].tolist()\n",
    "eval_to_find_acc= np.array(eval_to_find_acc)\n",
    "\n",
    "eval_to_find=dict()\n",
    "for tri in eval_to_find_acc:\n",
    "    if tri[0] not in eval_to_find:\n",
    "        eval_to_find[tri[0]]=[]\n",
    "    eval_to_find[tri[0]].append(([tri[1],tri[2]]))\n",
    "\n",
    "item_indices=dict() #ключ - юзер, значения - индексы фильмов для которых есть оценка\n",
    "labels_indices=dict() #ключ - юзер, значения - в соответствубщем порядке оценка фильмам\n",
    "u_to_delete=[] \n",
    "\n",
    "for u in eval_to_compare:\n",
    "    if u not in eval_to_find:\n",
    "        u_to_delete.append(u)\n",
    "    else:\n",
    "        item_indices.update({u:np.array(eval_to_find[u])[:,0].tolist()})\n",
    "        labels_indices.update({u:np.array(eval_to_find[u])[:,1].tolist()})\n",
    "    \n",
    "for u in u_to_delete:\n",
    "    eval_to_compare.pop(u)"
   ]
  },
  {
   "cell_type": "code",
   "execution_count": null,
   "metadata": {
    "id": "WPOXheZ5BbfC"
   },
   "outputs": [],
   "source": [
    "#Теперь находим наиболее похожих юзеров, и считаем f1,auc для них\n",
    "accs=[]\n",
    "aucs = []\n",
    "k=0\n",
    "model.eval() \n",
    "  for u in eval_to_compare:\n",
    "    ind = most_common_with(eval_to_compare[u])\n",
    "    user_indices = ind.tolist()*len(labels_indices[u])\n",
    "    auc_all = 0 \n",
    "    f1_all = 0\n",
    "\n",
    "    if not (labels_indices[u]==[1]*len(labels_indices[u]) or labels_indices[u]==[0]*len(labels_indices[u]) ):\n",
    "        out_val = model.inference(user_indices,item_indices[u],device)\n",
    "        auc , f1 = model.ctr(out_val,labels_indices[u])\n",
    "        print(k)\n",
    "        accs.append(f1)\n",
    "        aucs.append(auc)\n",
    "        auc_all+=auc\n",
    "        f1_all+=f1\n",
    "        k+=1\n"
   ]
  },
  {
   "cell_type": "code",
   "execution_count": 39,
   "metadata": {
    "colab": {
     "base_uri": "https://localhost:8080/"
    },
    "id": "PN77mFd2gTFW",
    "outputId": "91b20690-be18-443b-b19e-03c516674cd6",
    "pycharm": {
     "name": "#%%\n"
    }
   },
   "outputs": [
    {
     "name": "stdout",
     "output_type": "stream",
     "text": [
      "Auc for new user 0.512563907393718 f1 for new users 0.40131936906734156\n"
     ]
    }
   ],
   "source": [
    "print('Auc for new user', sum(aucs)/k,'f1 for new users', sum(accs)/k)"
   ]
  }
 ],
 "metadata": {
  "accelerator": "GPU",
  "colab": {
   "collapsed_sections": [],
   "name": "KG_training.ipynb",
   "provenance": []
  },
  "kernelspec": {
   "display_name": "Python 3",
   "language": "python",
   "name": "python3"
  },
  "language_info": {
   "codemirror_mode": {
    "name": "ipython",
    "version": 3
   },
   "file_extension": ".py",
   "mimetype": "text/x-python",
   "name": "python",
   "nbconvert_exporter": "python",
   "pygments_lexer": "ipython3",
   "version": "3.7.7"
  }
 },
 "nbformat": 4,
 "nbformat_minor": 1
}